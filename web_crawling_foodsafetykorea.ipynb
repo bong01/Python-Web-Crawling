{
 "cells": [
  {
   "cell_type": "code",
   "execution_count": 1,
   "id": "afa01f8e",
   "metadata": {},
   "outputs": [],
   "source": [
    "import re\n",
    "import requests\n",
    "import pandas as pd\n",
    "from bs4 import BeautifulSoup\n",
    "from tqdm import tqdm"
   ]
  },
  {
   "cell_type": "code",
   "execution_count": 2,
   "id": "d01df245",
   "metadata": {},
   "outputs": [],
   "source": [
    "# start_idx: 시작 페이지\n",
    "# show_cnt: 보여줄 개수\n",
    "params = {'start_idx':'1', 'show_cnt': '50'}\n",
    "# 건강기능식품 검색 url\n",
    "res = requests.get('https://www.foodsafetykorea.go.kr/portal/healthyfoodlife/searchHomeHFProc.do', params=params)"
   ]
  },
  {
   "cell_type": "code",
   "execution_count": 3,
   "id": "3d12802e",
   "metadata": {},
   "outputs": [],
   "source": [
    "# circed digit -> digit \n",
    "# 0x2460 ~ 0x2473: ① ~ ⑳\n",
    "def uncircle(s):\n",
    "    for i in range(1, 21):\n",
    "        s = s.replace(chr(0x245f + i), str(i)+\". \")\n",
    "    return s"
   ]
  },
  {
   "cell_type": "code",
   "execution_count": 4,
   "id": "deea61c5",
   "metadata": {},
   "outputs": [
    {
     "name": "stderr",
     "output_type": "stream",
     "text": [
      "100%|███████████████████████████████████████████| 50/50 [00:47<00:00,  1.05it/s]\n"
     ]
    }
   ],
   "source": [
    "data = []\n",
    "\n",
    "if res.status_code == 200:\n",
    "    for i in tqdm(range(50)):\n",
    "        # response의 json에서 고유 번호 추출\n",
    "        no = res.json()[i]['prdlst_report_ledg_no']\n",
    "        # 상세 페이지 url\n",
    "        res_detail = requests.get('https://www.foodsafetykorea.go.kr/portal/healthyfoodlife/searchHomeHFDetail.do?prdlstReportLedgNo=' + no)\n",
    "        if res_detail.status_code == 200:\n",
    "            soup = BeautifulSoup(res_detail.content, 'html.parser')\n",
    "\n",
    "            row = {}\n",
    "\n",
    "            for tbody in soup.find_all('tbody'):\n",
    "                for tr in tbody.find_all('tr'):\n",
    "                    th = tr.find('th')\n",
    "                    td = tr.find('td')\n",
    "                    if th:\n",
    "                        row['url'] = 'https://www.foodsafetykorea.go.kr/portal/healthyfoodlife/searchHomeHFDetail.do?prdlstReportLedgNo=' + no\n",
    "                        if th.text == '신고번호':\n",
    "                            row['제품코드'] = 'kfood-' + td.text\n",
    "                        elif th.text == '제품명':\n",
    "                            row['제품명'] = td.text\n",
    "                        elif th.text == '업소명':\n",
    "                            row['제조사'] = td.text\n",
    "                        elif th.text == '성상':\n",
    "                            row['제형'] = td.text.split()[-1]\n",
    "                        elif th.text == '섭취량/섭취 방법':\n",
    "                            row['섭취방법'] = td.text\n",
    "                        elif th.text == '섭취시주의사항':\n",
    "                            row['주의사항'] = td.text\n",
    "                        elif th.text == '기준 및 규격':\n",
    "                            ingred = []\n",
    "                            #'1. ', '(1) ', '1) ', '(1)'\n",
    "                            for i in re.split('\\d+\\. |\\(\\d+\\) |\\d+\\) |\\(\\d+\\)', uncircle(td.text)):\n",
    "                                #필터링\n",
    "                                fltr = '성상|붕해시험|대장균군|붕해도|붕해규격|붕해실험|붕해'\n",
    "                                if re.search(fltr, i):\n",
    "                                    continue\n",
    "                                #' : ', ': '\n",
    "                                split_td = re.split('\\s?\\:\\s', i)\n",
    "                                if len(split_td) > 1:\n",
    "                                    ingred.append([split_td[0], split_td[1]])\n",
    "                            # 리스트 원소만 가져오기\n",
    "                            row['성분'] = str(ingred)[1:-1] if len(ingred) > 0 else ''  \n",
    "\n",
    "            data.append(row)\n"
   ]
  },
  {
   "cell_type": "code",
   "execution_count": 5,
   "id": "a0104372",
   "metadata": {},
   "outputs": [],
   "source": [
    "columns=['제품코드', '제품명', '제조사', '제형', '섭취방법', '주의사항', 'url', '성분']\n",
    "\n",
    "df = pd.DataFrame(data=data, columns=columns)\n",
    "df.to_excel('result.xlsx', index=False)"
   ]
  },
  {
   "cell_type": "code",
   "execution_count": null,
   "id": "0aedd61a",
   "metadata": {},
   "outputs": [],
   "source": []
  }
 ],
 "metadata": {
  "kernelspec": {
   "display_name": "Python 3 (ipykernel)",
   "language": "python",
   "name": "python3"
  },
  "language_info": {
   "codemirror_mode": {
    "name": "ipython",
    "version": 3
   },
   "file_extension": ".py",
   "mimetype": "text/x-python",
   "name": "python",
   "nbconvert_exporter": "python",
   "pygments_lexer": "ipython3",
   "version": "3.9.6"
  }
 },
 "nbformat": 4,
 "nbformat_minor": 5
}
